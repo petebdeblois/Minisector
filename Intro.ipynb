{
 "cells": [
  {
   "cell_type": "markdown",
   "id": "ea843396",
   "metadata": {},
   "source": [
    "# Intro to F1 "
   ]
  },
  {
   "cell_type": "markdown",
   "id": "a34098e3",
   "metadata": {},
   "source": [
    "Jupyter Notebook\n",
    "- 'm' convert cell to markdown\n",
    "- 'a' insert cell above\n",
    "- 'dd' delete cell\n",
    "- 'b' insrert cell below\n",
    "- 'Shift + enter' runs the block and move to next one"
   ]
  },
  {
   "cell_type": "code",
   "execution_count": null,
   "id": "f63d6ee6",
   "metadata": {},
   "outputs": [],
   "source": [
    "import fastf1 as ff1\n",
    "from fastf1 import plotting\n",
    "\n",
    "from matplotlib import pyplot as plt\n",
    "from matplotlib.pyplot import figure\n",
    "from matplotlib.colors import ListedColormap\n",
    "from matplotlib.collections import LineCollection\n",
    "\n",
    "import numpy as np\n",
    "import pandas as pd\n"
   ]
  },
  {
   "cell_type": "code",
   "execution_count": null,
   "id": "953761bb",
   "metadata": {},
   "outputs": [],
   "source": [
    "\n",
    "# Enable the cache by providing the name of the cache folder\n",
    "ff1.Cache.enable_cache('../cache')\n",
    "\n",
    "year, grand_prix, session = 2022, 'Zandvoort', 'Q'\n",
    "\n",
    "session = ff1.get_session(year, grand_prix, session)\n",
    "\n",
    "session.load()"
   ]
  },
  {
   "cell_type": "code",
   "execution_count": null,
   "id": "05a0868a",
   "metadata": {},
   "outputs": [],
   "source": [
    "#Enable plotting settings\n",
    "ff1.plotting.setup_mpl()"
   ]
  },
  {
   "cell_type": "markdown",
   "id": "30ed32fa",
   "metadata": {},
   "source": [
    "## 1. Explore the data"
   ]
  },
  {
   "cell_type": "code",
   "execution_count": null,
   "id": "be9bbbb0",
   "metadata": {},
   "outputs": [],
   "source": [
    "laps_first_driver = session.laps.pick_driver('ALB')"
   ]
  },
  {
   "cell_type": "code",
   "execution_count": null,
   "id": "1cf15a79",
   "metadata": {},
   "outputs": [],
   "source": [
    "laps_first_driver.pick_fastest()"
   ]
  },
  {
   "cell_type": "markdown",
   "id": "b7d912bd",
   "metadata": {},
   "source": [
    "## 2. Building the plot"
   ]
  },
  {
   "cell_type": "code",
   "execution_count": null,
   "id": "51d511c1",
   "metadata": {},
   "outputs": [],
   "source": [
    "driver_1, driver_2 = 'VET', 'NOR'"
   ]
  },
  {
   "cell_type": "code",
   "execution_count": null,
   "id": "6a88b788",
   "metadata": {},
   "outputs": [],
   "source": [
    "laps_driver_1 = session.laps.pick_driver(driver_1)\n",
    "laps_driver_2 = session.laps.pick_driver(driver_2)\n",
    "\n",
    "fastest_driver_1 = laps_driver_1.pick_fastest()\n",
    "fastest_driver_2 = laps_driver_2.pick_fastest()\n",
    "\n",
    "telemetry_driver_1 = fastest_driver_1.get_telemetry()\n",
    "telemetry_driver_2 = fastest_driver_2.get_telemetry()"
   ]
  },
  {
   "cell_type": "code",
   "execution_count": null,
   "id": "963acc78",
   "metadata": {},
   "outputs": [],
   "source": [
    "# Delta time\n",
    "delta_time, ref_tel, compare_tel = ff1.utils.delta_time(fastest_driver_1, fastest_driver_2)"
   ]
  },
  {
   "cell_type": "code",
   "execution_count": null,
   "id": "52ac28a3",
   "metadata": {},
   "outputs": [],
   "source": [
    "# identify team color\n",
    "team_driver_1 = laps_driver_1['Team'].iloc[0]\n",
    "team_driver_2 = laps_driver_2['Team'].iloc[0]\n",
    "\n",
    "color_1 = ff1.plotting.team_color(team_driver_1)\n",
    "color_2 = ff1.plotting.team_color(team_driver_2)"
   ]
  },
  {
   "cell_type": "markdown",
   "id": "fd51c365",
   "metadata": {},
   "source": [
    "## 2.1 Telemetry Plot"
   ]
  },
  {
   "cell_type": "code",
   "execution_count": null,
   "id": "beec10bb",
   "metadata": {
    "scrolled": true
   },
   "outputs": [],
   "source": [
    "plt.rcParams['figure.figsize'] = [20, 15]\n",
    "\n",
    "# 7 plots\n",
    "# - Delta\n",
    "# - Speed\n",
    "# - THrottle\n",
    "# - Braking\n",
    "# - Gear\n",
    "# - RPM\n",
    "# - DRS\n",
    "fig, ax = plt.subplots(7, gridspec_kw={'height_ratios': [1,3,2,1,1,2,1]})\n",
    "\n",
    "# Set the title of the plot. \n",
    "ax[0].title.set_text(f'Telemetry comparison {driver_1} vs. {driver_2}')\n",
    "\n",
    "# Subplot 1: The Delta\n",
    "ax[0].plot(ref_tel['Distance'], delta_time, color=color_1)\n",
    "# We want to add a middle line, the 0 line\n",
    "ax[0].axhline(0)\n",
    "ax[0].set(ylabel=f'Gap to {driver_2} (s)')\n",
    "\n",
    "# Subplot 2: The Delta\n",
    "ax[1].plot(telemetry_driver_1['Distance'], telemetry_driver_1['Speed'],label=driver_1, color=color_1)\n",
    "ax[1].plot(telemetry_driver_2['Distance'], telemetry_driver_2['Speed'], label=driver_2,color=color_2)\n",
    "\n",
    "ax[1].set(ylabel='Speed')\n",
    "ax[1].legend(loc='lower right')\n",
    "\n",
    "# Subplot 3: Throttle\n",
    "ax[2].plot(telemetry_driver_1['Distance'], telemetry_driver_1['Throttle'],label=driver_1, color=color_1)\n",
    "ax[2].plot(telemetry_driver_2['Distance'], telemetry_driver_2['Throttle'], label=driver_2,color=color_2)\n",
    "\n",
    "ax[2].set(ylabel='Throttle')\n",
    "\n",
    "# Subplot 4: Braking\n",
    "ax[3].plot(telemetry_driver_1['Distance'], telemetry_driver_1['Brake'],label=driver_1, color=color_1)\n",
    "ax[3].plot(telemetry_driver_2['Distance'], telemetry_driver_2['Brake'], label=driver_2,color=color_2)\n",
    "\n",
    "ax[3].set(ylabel='Braking')\n",
    "\n",
    "# Subplot 5: Gear\n",
    "ax[4].plot(telemetry_driver_1['Distance'], telemetry_driver_1['nGear'],label=driver_1, color=color_1)\n",
    "ax[4].plot(telemetry_driver_2['Distance'], telemetry_driver_2['nGear'], label=driver_2,color=color_2)\n",
    "\n",
    "ax[4].set(ylabel='Gear')\n",
    "\n",
    "# Subplot 6: RPM\n",
    "ax[5].plot(telemetry_driver_1['Distance'], telemetry_driver_1['RPM'],label=driver_1, color=color_1)\n",
    "ax[5].plot(telemetry_driver_2['Distance'], telemetry_driver_2['RPM'], label=driver_2,color=color_2)\n",
    "\n",
    "ax[5].set(ylabel='RPM')\n",
    "\n",
    "# Subplot 6: DRS\n",
    "ax[6].plot(telemetry_driver_1['Distance'], telemetry_driver_1['DRS'],label=driver_1, color=color_1)\n",
    "ax[6].plot(telemetry_driver_2['Distance'], telemetry_driver_2['DRS'], label=driver_2,color=color_2)\n",
    "\n",
    "ax[6].set(ylabel='DRS')"
   ]
  },
  {
   "cell_type": "markdown",
   "id": "c179033f",
   "metadata": {},
   "source": [
    "## 2.2 Minisector comparison"
   ]
  },
  {
   "cell_type": "code",
   "execution_count": null,
   "id": "ae627377",
   "metadata": {},
   "outputs": [],
   "source": [
    "#Merge the telemetry from both drivers into one dataframe\n",
    "telemetry_driver_1['Driver'] = driver_1\n",
    "telemetry_driver_2['Driver'] = driver_2\n",
    "\n",
    "telemetry = pd.concat([telemetry_driver_1, telemetry_driver_2])"
   ]
  },
  {
   "cell_type": "code",
   "execution_count": null,
   "id": "a0fe201c",
   "metadata": {},
   "outputs": [],
   "source": [
    "# Calculate the minisector\n",
    "num_minisectors = 25\n",
    "total_distance = max(telemetry['Distance'])\n",
    "minisector_length = total_distance / num_minisectors"
   ]
  },
  {
   "cell_type": "code",
   "execution_count": null,
   "id": "f5969126",
   "metadata": {},
   "outputs": [],
   "source": [
    "minisectors = [0]\n",
    "for i in range(0, (num_minisectors -1 )):\n",
    "    minisectors.append(minisector_length *(i + 1))"
   ]
  },
  {
   "cell_type": "code",
   "execution_count": null,
   "id": "b6ffedc6",
   "metadata": {},
   "outputs": [],
   "source": [
    "# Assign a minisector number to every row in trhe telemetry dataframe\n",
    "telemetry['Minisector'] = telemetry['Distance'].apply(\n",
    "    lambda dist:(\n",
    "        int((dist // minisector_length) + 1)\n",
    "    )\n",
    ")"
   ]
  },
  {
   "cell_type": "code",
   "execution_count": null,
   "id": "8db84752",
   "metadata": {},
   "outputs": [],
   "source": [
    "# Calculate minisector per driver\n",
    "average_speed = telemetry.groupby(['Minisector', 'Driver'])['Speed'].mean().reset_index()\n"
   ]
  },
  {
   "cell_type": "code",
   "execution_count": null,
   "id": "03d5d91c",
   "metadata": {},
   "outputs": [],
   "source": [
    "fastest_driver = average_speed.loc[average_speed.groupby(['Minisector'])['Speed'].idxmax()]\n",
    "fastest_driver = fastest_driver[['Minisector', 'Driver']].rename(columns={'Driver': 'Fastest_driver'})"
   ]
  },
  {
   "cell_type": "code",
   "execution_count": null,
   "id": "e9037306",
   "metadata": {},
   "outputs": [],
   "source": [
    "#merge the fastest_driver dataframe to the telemetry dataframe on minisector\n",
    "telemetry = telemetry.merge(fastest_driver, on=['Minisector'])\n",
    "telemetry = telemetry.sort_values(by=['Distance'])"
   ]
  },
  {
   "cell_type": "code",
   "execution_count": null,
   "id": "bb4f7995",
   "metadata": {},
   "outputs": [],
   "source": [
    "telemetry.loc[telemetry['Fastest_driver'] == driver_1, 'Fastest_driver_int'] = 1\n",
    "telemetry.loc[telemetry['Fastest_driver'] == driver_2, 'Fastest_driver_int'] = 2\n"
   ]
  },
  {
   "cell_type": "code",
   "execution_count": null,
   "id": "7b9e00bc",
   "metadata": {},
   "outputs": [],
   "source": [
    "x = np.array(telemetry['X'].values)\n",
    "y = np.array(telemetry['Y'].values)\n",
    "\n"
   ]
  },
  {
   "cell_type": "code",
   "execution_count": null,
   "id": "c14e6a14",
   "metadata": {},
   "outputs": [],
   "source": [
    "#convert to points\n",
    "points = np.array([x, y]).T.reshape(-1, 1, 2)\n",
    "\n",
    "segments = np.concatenate([points[:-1], points[1:]], axis=1)\n",
    "fastest_driver_array = telemetry['Fastest_driver_int'].to_numpy().astype(float)\n",
    "\n",
    "fastest_driver_array"
   ]
  },
  {
   "cell_type": "code",
   "execution_count": null,
   "id": "e2adb6c0",
   "metadata": {},
   "outputs": [],
   "source": [
    "# the segments we juste created can now be coloroed  according to the fasted drvier in a minisecotr\n",
    "cmap = ListedColormap([color_1, color_2])\n",
    "lc_comp = LineCollection(segments, norm=plt.Normalize(1, cmap.N+1), cmap=cmap)\n",
    "lc_comp.set_array(fastest_driver_array)\n",
    "lc_comp.set_linewidth(5)"
   ]
  },
  {
   "cell_type": "code",
   "execution_count": null,
   "id": "6b76f890",
   "metadata": {},
   "outputs": [],
   "source": [
    "plt.rcParams['figure.figsize'] = [18, 10]\n",
    "\n",
    "plt.gca().add_collection(lc_comp)\n",
    "plt.axis('equal')\n",
    "plt.box(False)\n",
    "plt.tick_params(labelleft=False, left=False, labelbottom=False, bottom=False)\n",
    "\n",
    "# add a color bar fopr the legend\n",
    "cbar = plt.colorbar(mappable=lc_comp, boundaries=np.arange(1,4))\n",
    "cbar.set_ticks(np.arange(1, 9))\n",
    "cbar.set_ticklabels([driver_1, driver_2])"
   ]
  },
  {
   "cell_type": "code",
   "execution_count": null,
   "id": "4382b5bd",
   "metadata": {},
   "outputs": [],
   "source": []
  }
 ],
 "metadata": {
  "kernelspec": {
   "display_name": "Python 3 (ipykernel)",
   "language": "python",
   "name": "python3"
  },
  "language_info": {
   "codemirror_mode": {
    "name": "ipython",
    "version": 3
   },
   "file_extension": ".py",
   "mimetype": "text/x-python",
   "name": "python",
   "nbconvert_exporter": "python",
   "pygments_lexer": "ipython3",
   "version": "3.10.6"
  },
  "vscode": {
   "interpreter": {
    "hash": "369f2c481f4da34e4445cda3fffd2e751bd1c4d706f27375911949ba6bb62e1c"
   }
  }
 },
 "nbformat": 4,
 "nbformat_minor": 5
}
